{
 "cells": [
  {
   "cell_type": "markdown",
   "metadata": {},
   "source": [
    "### Rep Scraping"
   ]
  },
  {
   "cell_type": "markdown",
   "metadata": {},
   "source": [
    "Grab Rep from Zip"
   ]
  },
  {
   "cell_type": "code",
   "execution_count": 260,
   "metadata": {},
   "outputs": [
    {
     "data": {
      "text/plain": [
       "<response_seek_wrapper at 0x2a59e2c49d0 whose wrapped object = <closeable_response at 0x2a59e2954d0 whose fp = <_io.BufferedReader name=3548>>>"
      ]
     },
     "execution_count": 260,
     "metadata": {},
     "output_type": "execute_result"
    }
   ],
   "source": [
    "# Pull rep from zipcode\n",
    "\n",
    "import mechanize\n",
    "\n",
    "# Insantiate browser\n",
    "br = mechanize.Browser()\n",
    "br.set_handle_robots(False)\n",
    "\n",
    "# Open lookup link\n",
    "br.open(\"https://ziplook.house.gov/\")\n",
    "\n",
    "# Find form and input zipcode\n",
    "br.select_form(nr=1)\n",
    "br.form[\"ZIP\"] = \"66535\"\n",
    "br.submit()"
   ]
  },
  {
   "cell_type": "markdown",
   "metadata": {},
   "source": [
    "Grab Rep Name from HTML"
   ]
  },
  {
   "cell_type": "code",
   "execution_count": 261,
   "metadata": {},
   "outputs": [
    {
     "data": {
      "text/plain": [
       "'Tracey Mann '"
      ]
     },
     "execution_count": 261,
     "metadata": {},
     "output_type": "execute_result"
    }
   ],
   "source": [
    "# Scrape for rep name\n",
    "\n",
    "import requests\n",
    "import lxml.html\n",
    "\n",
    "# Open URL\n",
    "URL = br.geturl()  \n",
    "page = requests.get(URL, headers={\n",
    "    \"User-Agent\" : \"Mozilla/5.0 (X11; Linux x86_64) AppleWebKit/537.36 (KHTML, like Gecko) Chrome/51.0.2704.103 Safari/537.36\"})\n",
    "\n",
    "# Scrape HTML\n",
    "html = lxml.html.fromstring(page.content)\n",
    "name = html.xpath(\"/html/body/div[2]/div/div[2]/section/div/div[2]/div[2]/div/div/p/a[1]\")\n",
    "name[0].text"
   ]
  },
  {
   "cell_type": "markdown",
   "metadata": {},
   "source": [
    "Grab Rep Infos With BS"
   ]
  },
  {
   "cell_type": "code",
   "execution_count": 262,
   "metadata": {},
   "outputs": [
    {
     "data": {
      "text/plain": [
       "<div class=\"col-xs-16 col-md-4 pull-md-12 repdistrict\">\n",
       "<h1>Find Your Representative</h1>\n",
       "<p>\n",
       "<strong>Information provided:</strong><br/>\n",
       "<em>Zip code: 66535\n",
       "</em><br/>\n",
       "\n",
       "\t\tis located in the  1st Congressional district of Kansas.\n",
       "\n",
       "\t\t<p>The representative for this district is:</p>\n",
       "<div id=\"PossibleReps\">\n",
       "<div id=\"RepInfo\" name=\"RepeatReps\">\n",
       "<p class=\"rep color4\"><img alt=\"\" border=\"0\" class=\"repPhoto\" src=\"/zip/pictures/ks01_mann.jpg\"/><br/>\n",
       "<a href=\"https://mann.house.gov\">Tracey Mann </a><br/>\n",
       "                \tRepublican<br/>\n",
       "<a href=\"https://mann.house.gov\"><img alt=\"Go to website\" class=\"repLink\" height=\"13\" src=\"/content/static/img/icon-web.gif\" width=\"13\"/></a>\n",
       "<a href=\"https://mann.house.gov/address_authentication?form=/contact\"><img alt=\"Go to contact form\" class=\"repLink\" height=\"11\" src=\"/content/static/img/icon-email.gif\" width=\"17\"/></a>\n",
       "</p>\n",
       "</div>\n",
       "</div>\n",
       "</p></div>"
      ]
     },
     "execution_count": 262,
     "metadata": {},
     "output_type": "execute_result"
    }
   ],
   "source": [
    "# BS Table Scraping\n",
    "from bs4 import BeautifulSoup\n",
    "\n",
    "soup: BeautifulSoup = BeautifulSoup(page.content, \"html.parser\")\n",
    "table = soup.find('div', attrs = {'class':'col-xs-16 col-md-4 pull-md-12 repdistrict'}) \n",
    "if (len(name) > 1): \n",
    "    table = soup.find('div', attrs = {'id':'PossibleReps'}) \n",
    "table"
   ]
  },
  {
   "cell_type": "code",
   "execution_count": 263,
   "metadata": {},
   "outputs": [
    {
     "data": {
      "text/plain": [
       "['Tracey', 'Mann', 'Republican']"
      ]
     },
     "execution_count": 263,
     "metadata": {},
     "output_type": "execute_result"
    }
   ],
   "source": [
    "\n",
    "\n",
    "info = table.findAll('div')[0].text.split()\n",
    "info"
   ]
  },
  {
   "cell_type": "code",
   "execution_count": 264,
   "metadata": {},
   "outputs": [
    {
     "data": {
      "text/plain": [
       "['',\n",
       " 'Information provided:',\n",
       " 'Zip code: 66535',\n",
       " '',\n",
       " '',\n",
       " '\\t\\tis located in the  1st Congressional district of Kansas.',\n",
       " '',\n",
       " '\\t\\tThe representative for this district is:',\n",
       " '',\n",
       " '',\n",
       " '',\n",
       " 'Tracey Mann ',\n",
       " '                \\tRepublican',\n",
       " '',\n",
       " '',\n",
       " '',\n",
       " '',\n",
       " '']"
      ]
     },
     "execution_count": 264,
     "metadata": {},
     "output_type": "execute_result"
    }
   ],
   "source": [
    "district = table.find('p')\n",
    "str.splitlines(district.text)\n"
   ]
  },
  {
   "cell_type": "code",
   "execution_count": null,
   "metadata": {},
   "outputs": [],
   "source": []
  }
 ],
 "metadata": {
  "kernelspec": {
   "display_name": "Python 3",
   "language": "python",
   "name": "python3"
  },
  "language_info": {
   "codemirror_mode": {
    "name": "ipython",
    "version": 3
   },
   "file_extension": ".py",
   "mimetype": "text/x-python",
   "name": "python",
   "nbconvert_exporter": "python",
   "pygments_lexer": "ipython3",
   "version": "3.11.9"
  }
 },
 "nbformat": 4,
 "nbformat_minor": 2
}
