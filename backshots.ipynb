{
 "cells": [
  {
   "cell_type": "code",
   "execution_count": 16,
   "metadata": {},
   "outputs": [
    {
     "name": "stdout",
     "output_type": "stream",
     "text": [
      "https://ziplook.house.gov/htbin/findrep_house?ZIP=22182\n"
     ]
    }
   ],
   "source": [
    "# Pull rep from zipcode\n",
    "\n",
    "import mechanize\n",
    "\n",
    "# Insantiate browser\n",
    "br = mechanize.Browser()\n",
    "br.set_handle_robots(False)\n",
    "\n",
    "# Open lookup link\n",
    "br.open(\"https://ziplook.house.gov/\")\n",
    "\n",
    "# Find form and input zipcode\n",
    "br.select_form(nr=1)\n",
    "br.form[\"ZIP\"] = \"22182\"\n",
    "br.submit()\n",
    "\n",
    "\n",
    "print(br.geturl())"
   ]
  },
  {
   "cell_type": "code",
   "execution_count": null,
   "metadata": {},
   "outputs": [],
   "source": [
    "# Scrape for rep name\n",
    "\n",
    "import requests"
   ]
  }
 ],
 "metadata": {
  "kernelspec": {
   "display_name": "Python 3",
   "language": "python",
   "name": "python3"
  },
  "language_info": {
   "codemirror_mode": {
    "name": "ipython",
    "version": 3
   },
   "file_extension": ".py",
   "mimetype": "text/x-python",
   "name": "python",
   "nbconvert_exporter": "python",
   "pygments_lexer": "ipython3",
   "version": "3.11.9"
  }
 },
 "nbformat": 4,
 "nbformat_minor": 2
}
