{
 "cells": [
  {
   "cell_type": "markdown",
   "metadata": {},
   "source": [
    "### Rep Scraping"
   ]
  },
  {
   "cell_type": "markdown",
   "metadata": {},
   "source": [
    "Grab Rep from Zip"
   ]
  },
  {
   "cell_type": "code",
   "execution_count": 96,
   "metadata": {},
   "outputs": [
    {
     "data": {
      "text/plain": [
       "<response_seek_wrapper at 0x2a59d92a6d0 whose wrapped object = <closeable_response at 0x2a59d755110 whose fp = <_io.BufferedReader name=3472>>>"
      ]
     },
     "execution_count": 96,
     "metadata": {},
     "output_type": "execute_result"
    }
   ],
   "source": [
    "# Pull rep from zipcode\n",
    "\n",
    "import mechanize\n",
    "\n",
    "# Insantiate browser\n",
    "br = mechanize.Browser()\n",
    "br.set_handle_robots(False)\n",
    "\n",
    "# Open lookup link\n",
    "br.open(\"https://ziplook.house.gov/\")\n",
    "\n",
    "# Find form and input zipcode\n",
    "br.select_form(nr=1)\n",
    "br.form[\"ZIP\"] = \"22101\"\n",
    "br.submit()"
   ]
  },
  {
   "cell_type": "markdown",
   "metadata": {},
   "source": [
    "Grab Rep Name from HTML"
   ]
  },
  {
   "cell_type": "code",
   "execution_count": 97,
   "metadata": {},
   "outputs": [
    {
     "data": {
      "text/plain": [
       "'Donald S. Beyer Jr. '"
      ]
     },
     "execution_count": 97,
     "metadata": {},
     "output_type": "execute_result"
    }
   ],
   "source": [
    "# Scrape for rep name\n",
    "\n",
    "import requests\n",
    "import lxml.html\n",
    "\n",
    "# Open URL\n",
    "URL = br.geturl()  \n",
    "page = requests.get(URL, headers={\n",
    "    \"User-Agent\" : \"Mozilla/5.0 (X11; Linux x86_64) AppleWebKit/537.36 (KHTML, like Gecko) Chrome/51.0.2704.103 Safari/537.36\"})\n",
    "\n",
    "# Scrape HTML\n",
    "html = lxml.html.fromstring(page.content)\n",
    "name = html.xpath(\"/html/body/div[2]/div/div[2]/section/div/div[2]/div[2]/div/div/p/a[1]\")\n",
    "name[0].text"
   ]
  },
  {
   "cell_type": "markdown",
   "metadata": {},
   "source": [
    "Grab Rep Infos With BS"
   ]
  },
  {
   "cell_type": "code",
   "execution_count": 101,
   "metadata": {},
   "outputs": [
    {
     "data": {
      "text/plain": [
       "<div class=\"RepInfo\" name=\"RepeatReps\">\n",
       "<p class=\"rep color4\">\n",
       "<img alt=\"\" border=\"0\" class=\"repPhoto\" src=\"/zip/pictures/va08_beyer.jpg\"/><br/>\n",
       "<a href=\"https://beyer.house.gov\">Donald S. Beyer Jr. </a><br/>\n",
       "        \t        Democrat<br/>\n",
       "\t\t\tVirginia District 8\n",
       "\t\t    </p>\n",
       "</div>"
      ]
     },
     "execution_count": 101,
     "metadata": {},
     "output_type": "execute_result"
    }
   ],
   "source": [
    "# BS Table Scraping\n",
    "from bs4 import BeautifulSoup\n",
    "\n",
    "soup: BeautifulSoup = BeautifulSoup(page.content, \"html.parser\")\n",
    "table = soup.find('div', attrs = {'id':'RepInfo'}) \n",
    "if (len(name) > 1):\n",
    "    table = soup.find('div', attrs = {'class':'RepInfo'}) \n",
    "table"
   ]
  },
  {
   "cell_type": "code",
   "execution_count": 105,
   "metadata": {},
   "outputs": [
    {
     "name": "stdout",
     "output_type": "stream",
     "text": [
      "Donald S. Beyer Jr. \n"
     ]
    },
    {
     "ename": "AttributeError",
     "evalue": "'NoneType' object has no attribute 'text'",
     "output_type": "error",
     "traceback": [
      "\u001b[1;31m---------------------------------------------------------------------------\u001b[0m",
      "\u001b[1;31mAttributeError\u001b[0m                            Traceback (most recent call last)",
      "Cell \u001b[1;32mIn[105], line 3\u001b[0m\n\u001b[0;32m      1\u001b[0m \u001b[38;5;66;03m# Record Rep Info\u001b[39;00m\n\u001b[0;32m      2\u001b[0m \u001b[38;5;28;01mfor\u001b[39;00m rep \u001b[38;5;129;01min\u001b[39;00m table\u001b[38;5;241m.\u001b[39mfind_all_next():\n\u001b[1;32m----> 3\u001b[0m     \u001b[38;5;28mprint\u001b[39m(\u001b[43mrep\u001b[49m\u001b[38;5;241;43m.\u001b[39;49m\u001b[43ma\u001b[49m\u001b[38;5;241;43m.\u001b[39;49m\u001b[43mtext\u001b[49m)\n",
      "\u001b[1;31mAttributeError\u001b[0m: 'NoneType' object has no attribute 'text'"
     ]
    }
   ],
   "source": [
    "# Record Rep Info\n",
    "for rep in table.find_all_next():\n",
    "    print(rep.a.text)"
   ]
  },
  {
   "cell_type": "code",
   "execution_count": null,
   "metadata": {},
   "outputs": [],
   "source": []
  }
 ],
 "metadata": {
  "kernelspec": {
   "display_name": "Python 3",
   "language": "python",
   "name": "python3"
  },
  "language_info": {
   "codemirror_mode": {
    "name": "ipython",
    "version": 3
   },
   "file_extension": ".py",
   "mimetype": "text/x-python",
   "name": "python",
   "nbconvert_exporter": "python",
   "pygments_lexer": "ipython3",
   "version": "3.11.9"
  }
 },
 "nbformat": 4,
 "nbformat_minor": 2
}
