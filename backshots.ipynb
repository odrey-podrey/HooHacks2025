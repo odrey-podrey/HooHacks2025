{
 "cells": [
  {
   "cell_type": "markdown",
   "metadata": {},
   "source": [
    "### Rep Scraping"
   ]
  },
  {
   "cell_type": "markdown",
   "metadata": {},
   "source": [
    "Grab Rep from Zip"
   ]
  },
  {
   "cell_type": "code",
   "execution_count": 11,
   "metadata": {},
   "outputs": [
    {
     "data": {
      "text/plain": [
       "<response_seek_wrapper at 0x1d5bbef1c50 whose wrapped object = <closeable_response at 0x1d5bd2c5490 whose fp = <_io.BufferedReader name=1416>>>"
      ]
     },
     "execution_count": 11,
     "metadata": {},
     "output_type": "execute_result"
    }
   ],
   "source": [
    "# Pull rep from zipcode\n",
    "\n",
    "import mechanize\n",
    "\n",
    "# Insantiate browser\n",
    "br = mechanize.Browser()\n",
    "br.set_handle_robots(False)\n",
    "\n",
    "# Open lookup link\n",
    "br.open(\"https://ziplook.house.gov/\")\n",
    "\n",
    "# Find form and input zipcode\n",
    "br.select_form(nr=1)\n",
    "br.form[\"ZIP\"] = \"22182\"\n",
    "br.submit()"
   ]
  },
  {
   "cell_type": "markdown",
   "metadata": {},
   "source": [
    "Grab Rep Name from HTML"
   ]
  },
  {
   "cell_type": "code",
   "execution_count": 12,
   "metadata": {},
   "outputs": [
    {
     "data": {
      "text/plain": [
       "'Gerald E. Connolly '"
      ]
     },
     "execution_count": 12,
     "metadata": {},
     "output_type": "execute_result"
    }
   ],
   "source": [
    "# Scrape for rep name\n",
    "\n",
    "import requests\n",
    "import lxml.html\n",
    "\n",
    "# Open URL\n",
    "URL = br.geturl()  \n",
    "page = requests.get(URL, headers={\n",
    "    \"User-Agent\" : \"Mozilla/5.0 (X11; Linux x86_64) AppleWebKit/537.36 (KHTML, like Gecko) Chrome/51.0.2704.103 Safari/537.36\"})\n",
    "\n",
    "# Scrape HTML\n",
    "html = lxml.html.fromstring(page.content)\n",
    "name = html.xpath(\"/html/body/div[2]/div/div[2]/section/div/div[2]/div[2]/div/div/p/a[1]\")\n",
    "name[0].text"
   ]
  },
  {
   "cell_type": "markdown",
   "metadata": {},
   "source": [
    "Grab Rep Infos With BS"
   ]
  },
  {
   "cell_type": "code",
   "execution_count": 13,
   "metadata": {},
   "outputs": [
    {
     "data": {
      "text/plain": [
       "<div class=\"col-xs-16 col-md-4 pull-md-12 repdistrict\">\n",
       "<h1>Find Your Representative</h1>\n",
       "<p>\n",
       "<strong>Information provided:</strong><br/>\n",
       "<em>Zip code: 22182\n",
       "</em><br/>\n",
       "\n",
       "\t\tis located in the 11th Congressional district of Virginia.\n",
       "\n",
       "\t\t<p>The representative for this district is:</p>\n",
       "<div id=\"PossibleReps\">\n",
       "<div id=\"RepInfo\" name=\"RepeatReps\">\n",
       "<p class=\"rep color4\"><img alt=\"\" border=\"0\" class=\"repPhoto\" src=\"/zip/pictures/va11_connolly.jpg\"/><br/>\n",
       "<a href=\"https://connolly.house.gov/\">Gerald E. Connolly </a><br/>\n",
       "                \tDemocrat<br/>\n",
       "<a href=\"https://connolly.house.gov/\"><img alt=\"Go to website\" class=\"repLink\" height=\"13\" src=\"/content/static/img/icon-web.gif\" width=\"13\"/></a>\n",
       "<a href=\"https://connolly.house.gov/contact/zip-auth.htm\"><img alt=\"Go to contact form\" class=\"repLink\" height=\"11\" src=\"/content/static/img/icon-email.gif\" width=\"17\"/></a>\n",
       "</p>\n",
       "</div>\n",
       "</div>\n",
       "</p></div>"
      ]
     },
     "execution_count": 13,
     "metadata": {},
     "output_type": "execute_result"
    }
   ],
   "source": [
    "# BS Table Scraping\n",
    "from bs4 import BeautifulSoup\n",
    "\n",
    "soup: BeautifulSoup = BeautifulSoup(page.content, \"html.parser\")\n",
    "table = soup.find('div', attrs = {'class':'col-xs-16 col-md-4 pull-md-12 repdistrict'}) \n",
    "if (len(name) > 1): \n",
    "    table = soup.find('div', attrs = {'id':'PossibleReps'}) \n",
    "table"
   ]
  },
  {
   "cell_type": "code",
   "execution_count": 14,
   "metadata": {},
   "outputs": [
    {
     "data": {
      "text/plain": [
       "'Gerald'"
      ]
     },
     "execution_count": 14,
     "metadata": {},
     "output_type": "execute_result"
    }
   ],
   "source": [
    "\n",
    "\n",
    "info = table.findAll('div')[0].text.split()\n",
    "info[-4]"
   ]
  },
  {
   "cell_type": "code",
   "execution_count": 15,
   "metadata": {},
   "outputs": [],
   "source": [
    "info = table.find('p')\n",
    "district = str.splitlines(info.text)[5]\n",
    "party = str.splitlines(info.text)[12]\n"
   ]
  },
  {
   "cell_type": "code",
   "execution_count": 16,
   "metadata": {},
   "outputs": [
    {
     "data": {
      "text/plain": [
       "'Democrat'"
      ]
     },
     "execution_count": 16,
     "metadata": {},
     "output_type": "execute_result"
    }
   ],
   "source": [
    "import regex as re\n",
    "party = re.sub(r'[\\t ]', \"\", party)\n",
    "party"
   ]
  },
  {
   "cell_type": "code",
   "execution_count": 17,
   "metadata": {},
   "outputs": [
    {
     "data": {
      "text/plain": [
       "'11th Congressional district of Virginia.'"
      ]
     },
     "execution_count": 17,
     "metadata": {},
     "output_type": "execute_result"
    }
   ],
   "source": [
    "dist = re.match(\"([^0-9]*)([0-9].*)\", district).group(2)\n",
    "dist\n",
    "\n"
   ]
  },
  {
   "cell_type": "code",
   "execution_count": 18,
   "metadata": {},
   "outputs": [],
   "source": [
    "import google.generativeai as genai"
   ]
  },
  {
   "cell_type": "code",
   "execution_count": 19,
   "metadata": {},
   "outputs": [],
   "source": [
    "import config\n",
    "genai.configure(api_key=config.api_key)"
   ]
  },
  {
   "cell_type": "code",
   "execution_count": null,
   "metadata": {},
   "outputs": [
    {
     "name": "stdout",
     "output_type": "stream",
     "text": [
      "Okay, here's the information about Representative Gerald E. Connolly, formatted as requested:\n",
      "\n",
      "*   **Three Most Recent Key Votes (Ballotpedia):**\n",
      "\n",
      "1.  Providing for congressional disapproval under chapter 8 of title 5, United States Code, of the rule submitted by the Consumer Financial Protection Bureau relating to \"Credit Card Late Fees\"; Passed (219-200); Connolly voted Yay; May 8, 2024\n",
      "2.  Providing for consideration of the bill (H.R. 8070) to reauthorize the FISA Amendments Act of 2008; Failed (204-216); Connolly voted Nay; April 17, 2024\n",
      "3.  Reauthorizing the FISA Amendments Act of 2008; Passed (273-147); Connolly voted Nay; April 13, 2024\n",
      "\n",
      "*   **House Committee Assignments (house.gov):**\n",
      "    Yes, Representative Connolly serves on the following committees:\n",
      "    1.  Committee on Oversight and Accountability\n",
      "           *   Subcommittee on Cybersecurity, Information Technology, and Government Innovation\n",
      "           *   Subcommittee on Government Operations\n",
      "    2.  Committee on Foreign Affairs\n",
      "           *   Subcommittee on Europe\n",
      "           *   Subcommittee on Oversight and Accountability\n",
      "\n",
      "*   **Relevant Fact:** Representative Connolly previously served as Chairman of the Fairfax County Board of Supervisors, the largest political jurisdiction in Virginia.\n",
      "\n"
     ]
    }
   ],
   "source": [
    "generation_config = {\n",
    "    \"temperature\": 0.9,\n",
    "    \"top_p\": 1,\n",
    "    \"top_k\": 1,\n",
    "    \"max_output_tokens\": 2048,    \n",
    "}\n",
    "\n",
    "model = genai.GenerativeModel(model_name=\"gemini-2.0-flash\", generation_config=generation_config)\n",
    "convo = model.start_chat(history = [])\n",
    "convo.send_message(f\"Give me the following information about representative {name[0].text} in bullet points: 1. Their three most recent key votes ordered by date (most recent to least recent) sourced from the representative's Ballotopedia.org \\\"key votes\\\" section in a numbered list format containing the vote name, whether the vote passed, whether whether the representative voted yay or nay for it, and the date of the vote. 2. If the representative serves on a house committee, and if so which ones. If not, return that the representative is not on any house committees. Source must be from Ballotopedia or the representative's house.gov website. 3. List the house committee in a numbered list and the relevant subcommittees under them in bullet points.3. One relevant fact about the representative  (one sentence)\")\n",
    "print(convo.last.text)  "
   ]
  },
  {
   "cell_type": "code",
   "execution_count": null,
   "metadata": {},
   "outputs": [],
   "source": []
  }
 ],
 "metadata": {
  "kernelspec": {
   "display_name": "Python 3",
   "language": "python",
   "name": "python3"
  },
  "language_info": {
   "codemirror_mode": {
    "name": "ipython",
    "version": 3
   },
   "file_extension": ".py",
   "mimetype": "text/x-python",
   "name": "python",
   "nbconvert_exporter": "python",
   "pygments_lexer": "ipython3",
   "version": "3.11.9"
  }
 },
 "nbformat": 4,
 "nbformat_minor": 2
}
